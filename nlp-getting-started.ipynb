{
 "cells": [
  {
   "cell_type": "markdown",
   "metadata": {
    "papermill": {
     "duration": 0.019423,
     "end_time": "2023-03-27T15:54:14.082369",
     "exception": false,
     "start_time": "2023-03-27T15:54:14.062946",
     "status": "completed"
    },
    "tags": []
   },
   "source": [
    "## Import libraries\n"
   ]
  },
  {
   "cell_type": "code",
   "execution_count": 1,
   "metadata": {
    "_cell_guid": "b1076dfc-b9ad-4769-8c92-a6c4dae69d19",
    "_uuid": "8f2839f25d086af736a60e9eeb907d3b93b6e0e5",
    "execution": {
     "iopub.execute_input": "2023-03-27T15:54:14.124338Z",
     "iopub.status.busy": "2023-03-27T15:54:14.123431Z",
     "iopub.status.idle": "2023-03-27T15:54:15.812873Z",
     "shell.execute_reply": "2023-03-27T15:54:15.811802Z",
     "shell.execute_reply.started": "2023-03-27T15:53:23.387023Z"
    },
    "papermill": {
     "duration": 1.713262,
     "end_time": "2023-03-27T15:54:15.813044",
     "exception": false,
     "start_time": "2023-03-27T15:54:14.099782",
     "status": "completed"
    },
    "tags": []
   },
   "outputs": [],
   "source": [
    "import pandas as pd\n",
    "import numpy as np\n",
    "import seaborn as sns\n",
    "import matplotlib.pyplot as plt\n",
    "\n",
    "import re\n",
    "import string\n",
    "\n",
    "import nltk\n",
    "from nltk.corpus import stopwords\n",
    "from nltk.stem import PorterStemmer\n",
    "from nltk.tokenize import TweetTokenizer"
   ]
  },
  {
   "cell_type": "markdown",
   "metadata": {
    "papermill": {
     "duration": 0.017037,
     "end_time": "2023-03-27T15:54:15.848026",
     "exception": false,
     "start_time": "2023-03-27T15:54:15.830989",
     "status": "completed"
    },
    "tags": []
   },
   "source": [
    "Import the data into train and test data"
   ]
  },
  {
   "cell_type": "code",
   "execution_count": 2,
   "metadata": {
    "_cell_guid": "79c7e3d0-c299-4dcb-8224-4455121ee9b0",
    "_uuid": "d629ff2d2480ee46fbb7e2d37f6b5fab8052498a",
    "execution": {
     "iopub.execute_input": "2023-03-27T15:54:15.886937Z",
     "iopub.status.busy": "2023-03-27T15:54:15.886233Z",
     "iopub.status.idle": "2023-03-27T15:54:15.980055Z",
     "shell.execute_reply": "2023-03-27T15:54:15.979318Z",
     "shell.execute_reply.started": "2023-03-27T15:53:25.242242Z"
    },
    "papermill": {
     "duration": 0.114806,
     "end_time": "2023-03-27T15:54:15.980217",
     "exception": false,
     "start_time": "2023-03-27T15:54:15.865411",
     "status": "completed"
    },
    "tags": []
   },
   "outputs": [],
   "source": [
    "train_data = pd.read_csv('/kaggle/input/nlp-getting-started/train.csv')\n",
    "test_data = pd.read_csv('/kaggle/input/nlp-getting-started/test.csv')\n",
    "sample = pd.read_csv('/kaggle/input/nlp-getting-started/sample_submission.csv')\n"
   ]
  },
  {
   "cell_type": "code",
   "execution_count": 3,
   "metadata": {
    "execution": {
     "iopub.execute_input": "2023-03-27T15:54:16.025531Z",
     "iopub.status.busy": "2023-03-27T15:54:16.024695Z",
     "iopub.status.idle": "2023-03-27T15:54:16.029657Z",
     "shell.execute_reply": "2023-03-27T15:54:16.028977Z",
     "shell.execute_reply.started": "2023-03-27T15:53:25.333888Z"
    },
    "papermill": {
     "duration": 0.029946,
     "end_time": "2023-03-27T15:54:16.029785",
     "exception": false,
     "start_time": "2023-03-27T15:54:15.999839",
     "status": "completed"
    },
    "tags": []
   },
   "outputs": [
    {
     "name": "stdout",
     "output_type": "stream",
     "text": [
      "7613\n",
      "3263\n"
     ]
    }
   ],
   "source": [
    "print(len(train_data))\n",
    "print(len(test_data))"
   ]
  },
  {
   "cell_type": "markdown",
   "metadata": {
    "papermill": {
     "duration": 0.017287,
     "end_time": "2023-03-27T15:54:16.065405",
     "exception": false,
     "start_time": "2023-03-27T15:54:16.048118",
     "status": "completed"
    },
    "tags": []
   },
   "source": [
    "* Drop the columns id,keyword,location "
   ]
  },
  {
   "cell_type": "code",
   "execution_count": 4,
   "metadata": {
    "execution": {
     "iopub.execute_input": "2023-03-27T15:54:16.111974Z",
     "iopub.status.busy": "2023-03-27T15:54:16.111285Z",
     "iopub.status.idle": "2023-03-27T15:54:16.118095Z",
     "shell.execute_reply": "2023-03-27T15:54:16.117510Z",
     "shell.execute_reply.started": "2023-03-27T15:53:25.340926Z"
    },
    "papermill": {
     "duration": 0.03513,
     "end_time": "2023-03-27T15:54:16.118287",
     "exception": false,
     "start_time": "2023-03-27T15:54:16.083157",
     "status": "completed"
    },
    "tags": []
   },
   "outputs": [],
   "source": [
    "y = train_data.target\n",
    "train_data =train_data.drop(['id','keyword','location','target'],axis =1)"
   ]
  },
  {
   "cell_type": "markdown",
   "metadata": {
    "papermill": {
     "duration": 0.017227,
     "end_time": "2023-03-27T15:54:16.153407",
     "exception": false,
     "start_time": "2023-03-27T15:54:16.136180",
     "status": "completed"
    },
    "tags": []
   },
   "source": [
    "* Remove all stopwords, retweets, links and hashtags\n",
    "* Tokenize the tweets and store them in an array\n",
    "* store only stemming words in an array"
   ]
  },
  {
   "cell_type": "code",
   "execution_count": 5,
   "metadata": {
    "execution": {
     "iopub.execute_input": "2023-03-27T15:54:16.193020Z",
     "iopub.status.busy": "2023-03-27T15:54:16.192325Z",
     "iopub.status.idle": "2023-03-27T15:54:16.201159Z",
     "shell.execute_reply": "2023-03-27T15:54:16.201872Z",
     "shell.execute_reply.started": "2023-03-27T15:53:25.367036Z"
    },
    "papermill": {
     "duration": 0.030986,
     "end_time": "2023-03-27T15:54:16.202038",
     "exception": false,
     "start_time": "2023-03-27T15:54:16.171052",
     "status": "completed"
    },
    "tags": []
   },
   "outputs": [],
   "source": [
    "def process_text(text):\n",
    "    stemmer = PorterStemmer()\n",
    "    stopwords_english = stopwords.words('english')\n",
    "    # remove stock market tickers like $GE\n",
    "    text = re.sub(r'\\$\\w*', '', text)\n",
    "    # remove old style retweet text \"RT\"\n",
    "    text = re.sub(r'^RT[\\s]+', '', text)\n",
    "    # remove hyperlinks\n",
    "    text = re.sub(r'https?:\\/\\/.*[\\r\\n]*', '', text)\n",
    "    # remove hashtags\n",
    "    # only removing the hash # sign from the word\n",
    "    text = re.sub(r'#', '', text)\n",
    "    # tokenize tweets\n",
    "    tokenizer = TweetTokenizer(preserve_case=False, strip_handles=True,\n",
    "                               reduce_len=True)\n",
    "    text_tokens = tokenizer.tokenize(text)\n",
    "\n",
    "    texts_clean = []\n",
    "    for word in text_tokens:\n",
    "        if (word not in stopwords_english and  # remove stopwords\n",
    "                word not in string.punctuation):  # remove punctuation\n",
    "            # tweets_clean.append(word)\n",
    "            stem_word = stemmer.stem(word)  # stemming word\n",
    "            texts_clean.append(stem_word)\n",
    "\n",
    "\n",
    "    return texts_clean\n"
   ]
  },
  {
   "cell_type": "markdown",
   "metadata": {
    "papermill": {
     "duration": 0.017318,
     "end_time": "2023-03-27T15:54:16.237246",
     "exception": false,
     "start_time": "2023-03-27T15:54:16.219928",
     "status": "completed"
    },
    "tags": []
   },
   "source": [
    "* Get the frequency of each word of both disater and non disaster tweets and store them in freqs"
   ]
  },
  {
   "cell_type": "code",
   "execution_count": 6,
   "metadata": {
    "execution": {
     "iopub.execute_input": "2023-03-27T15:54:16.276402Z",
     "iopub.status.busy": "2023-03-27T15:54:16.275681Z",
     "iopub.status.idle": "2023-03-27T15:54:16.281885Z",
     "shell.execute_reply": "2023-03-27T15:54:16.282488Z",
     "shell.execute_reply.started": "2023-03-27T15:53:25.377225Z"
    },
    "papermill": {
     "duration": 0.027382,
     "end_time": "2023-03-27T15:54:16.282660",
     "exception": false,
     "start_time": "2023-03-27T15:54:16.255278",
     "status": "completed"
    },
    "tags": []
   },
   "outputs": [],
   "source": [
    "def build_freqs(texts, ys):\n",
    "\n",
    "    yslist = np.squeeze(ys).tolist()\n",
    "\n",
    "    freqs = {}\n",
    "    for y, text in zip(yslist, texts):\n",
    "        for word in process_text(text):\n",
    "            pair = (word, y)\n",
    "            if pair in freqs:\n",
    "                freqs[pair] += 1\n",
    "            else:\n",
    "                freqs[pair] = 1\n",
    "\n",
    "    return freqs"
   ]
  },
  {
   "cell_type": "code",
   "execution_count": 7,
   "metadata": {
    "execution": {
     "iopub.execute_input": "2023-03-27T15:54:16.322327Z",
     "iopub.status.busy": "2023-03-27T15:54:16.321552Z",
     "iopub.status.idle": "2023-03-27T15:54:21.061269Z",
     "shell.execute_reply": "2023-03-27T15:54:21.060631Z",
     "shell.execute_reply.started": "2023-03-27T15:53:25.391839Z"
    },
    "papermill": {
     "duration": 4.760957,
     "end_time": "2023-03-27T15:54:21.061400",
     "exception": false,
     "start_time": "2023-03-27T15:54:16.300443",
     "status": "completed"
    },
    "tags": []
   },
   "outputs": [],
   "source": [
    "freqs = build_freqs(train_data['text'],y)"
   ]
  },
  {
   "cell_type": "code",
   "execution_count": null,
   "metadata": {
    "papermill": {
     "duration": 0.018539,
     "end_time": "2023-03-27T15:54:21.099011",
     "exception": false,
     "start_time": "2023-03-27T15:54:21.080472",
     "status": "completed"
    },
    "tags": []
   },
   "outputs": [],
   "source": []
  },
  {
   "cell_type": "code",
   "execution_count": 8,
   "metadata": {
    "execution": {
     "iopub.execute_input": "2023-03-27T15:54:21.143449Z",
     "iopub.status.busy": "2023-03-27T15:54:21.142667Z",
     "iopub.status.idle": "2023-03-27T15:54:21.146354Z",
     "shell.execute_reply": "2023-03-27T15:54:21.145817Z",
     "shell.execute_reply.started": "2023-03-27T15:53:30.192812Z"
    },
    "papermill": {
     "duration": 0.029754,
     "end_time": "2023-03-27T15:54:21.146484",
     "exception": false,
     "start_time": "2023-03-27T15:54:21.116730",
     "status": "completed"
    },
    "tags": []
   },
   "outputs": [],
   "source": [
    "def extract_features(text, freqs):\n",
    "    # process_tweet tokenizes, stems, and removes stopwords\n",
    "    word_l = process_text(text)\n",
    "    \n",
    "    # 3 elements in the form of a 1 x 3 vector\n",
    "    x = np.zeros((1, 3)) \n",
    "    \n",
    "    #bias term is set to 1\n",
    "    x[0,0] = 1 \n",
    "    \n",
    "    \n",
    "    # loop through each word in the list of words\n",
    "    for word in word_l:\n",
    "        \n",
    "        # increment the word count for the positive label 1\n",
    "        x[0,1] += freqs.get((word,1.0), 0)\n",
    "        \n",
    "        # increment the word count for the negative label 0\n",
    "        x[0,2] += freqs.get((word,0.0), 0)\n",
    "        \n",
    "    assert(x.shape == (1, 3))\n",
    "    return x"
   ]
  },
  {
   "cell_type": "code",
   "execution_count": 9,
   "metadata": {
    "execution": {
     "iopub.execute_input": "2023-03-27T15:54:21.188027Z",
     "iopub.status.busy": "2023-03-27T15:54:21.187338Z",
     "iopub.status.idle": "2023-03-27T15:54:26.419251Z",
     "shell.execute_reply": "2023-03-27T15:54:26.418513Z",
     "shell.execute_reply.started": "2023-03-27T15:53:30.203824Z"
    },
    "papermill": {
     "duration": 5.255394,
     "end_time": "2023-03-27T15:54:26.419394",
     "exception": false,
     "start_time": "2023-03-27T15:54:21.164000",
     "status": "completed"
    },
    "tags": []
   },
   "outputs": [],
   "source": [
    "X = np.zeros((len(train_data), 3))\n",
    "for i in range(len(train_data)):\n",
    "    X[i, :]= extract_features(train_data.text[i], freqs)\n"
   ]
  },
  {
   "cell_type": "code",
   "execution_count": 10,
   "metadata": {
    "execution": {
     "iopub.execute_input": "2023-03-27T15:54:26.462345Z",
     "iopub.status.busy": "2023-03-27T15:54:26.461592Z",
     "iopub.status.idle": "2023-03-27T15:54:26.464852Z",
     "shell.execute_reply": "2023-03-27T15:54:26.464228Z",
     "shell.execute_reply.started": "2023-03-27T15:53:35.351049Z"
    },
    "papermill": {
     "duration": 0.02645,
     "end_time": "2023-03-27T15:54:26.464971",
     "exception": false,
     "start_time": "2023-03-27T15:54:26.438521",
     "status": "completed"
    },
    "tags": []
   },
   "outputs": [],
   "source": [
    "from sklearn.linear_model import LogisticRegression\n",
    "from sklearn.metrics import classification_report, plot_confusion_matrix, accuracy_score\n"
   ]
  },
  {
   "cell_type": "code",
   "execution_count": 11,
   "metadata": {
    "execution": {
     "iopub.execute_input": "2023-03-27T15:54:26.503881Z",
     "iopub.status.busy": "2023-03-27T15:54:26.503198Z",
     "iopub.status.idle": "2023-03-27T15:54:26.513393Z",
     "shell.execute_reply": "2023-03-27T15:54:26.512677Z",
     "shell.execute_reply.started": "2023-03-27T15:53:35.357638Z"
    },
    "papermill": {
     "duration": 0.030976,
     "end_time": "2023-03-27T15:54:26.513518",
     "exception": false,
     "start_time": "2023-03-27T15:54:26.482542",
     "status": "completed"
    },
    "tags": []
   },
   "outputs": [
    {
     "data": {
      "text/plain": [
       "0    4342\n",
       "1    3271\n",
       "Name: target, dtype: int64"
      ]
     },
     "execution_count": 11,
     "metadata": {},
     "output_type": "execute_result"
    }
   ],
   "source": [
    "y.value_counts()"
   ]
  },
  {
   "cell_type": "code",
   "execution_count": 12,
   "metadata": {
    "execution": {
     "iopub.execute_input": "2023-03-27T15:54:26.555056Z",
     "iopub.status.busy": "2023-03-27T15:54:26.554410Z",
     "iopub.status.idle": "2023-03-27T15:54:26.559049Z",
     "shell.execute_reply": "2023-03-27T15:54:26.558416Z",
     "shell.execute_reply.started": "2023-03-27T15:53:35.380608Z"
    },
    "papermill": {
     "duration": 0.027585,
     "end_time": "2023-03-27T15:54:26.559231",
     "exception": false,
     "start_time": "2023-03-27T15:54:26.531646",
     "status": "completed"
    },
    "tags": []
   },
   "outputs": [
    {
     "data": {
      "text/plain": [
       "7613"
      ]
     },
     "execution_count": 12,
     "metadata": {},
     "output_type": "execute_result"
    }
   ],
   "source": [
    "len(X)"
   ]
  },
  {
   "cell_type": "code",
   "execution_count": 13,
   "metadata": {
    "execution": {
     "iopub.execute_input": "2023-03-27T15:54:26.602559Z",
     "iopub.status.busy": "2023-03-27T15:54:26.601836Z",
     "iopub.status.idle": "2023-03-27T15:54:26.623514Z",
     "shell.execute_reply": "2023-03-27T15:54:26.622848Z",
     "shell.execute_reply.started": "2023-03-27T15:53:35.394384Z"
    },
    "papermill": {
     "duration": 0.045888,
     "end_time": "2023-03-27T15:54:26.623660",
     "exception": false,
     "start_time": "2023-03-27T15:54:26.577772",
     "status": "completed"
    },
    "tags": []
   },
   "outputs": [
    {
     "data": {
      "text/plain": [
       "LogisticRegression(class_weight='balanced', max_iter=20, random_state=42,\n",
       "                   solver='liblinear')"
      ]
     },
     "execution_count": 13,
     "metadata": {},
     "output_type": "execute_result"
    }
   ],
   "source": [
    "model = LogisticRegression(penalty= 'l2' ,random_state= 42 ,max_iter=20,solver='liblinear',class_weight= 'balanced')\n",
    "model.fit(X[:5500],y[:5500])"
   ]
  },
  {
   "cell_type": "code",
   "execution_count": 14,
   "metadata": {
    "execution": {
     "iopub.execute_input": "2023-03-27T15:54:26.664927Z",
     "iopub.status.busy": "2023-03-27T15:54:26.663904Z",
     "iopub.status.idle": "2023-03-27T15:54:26.687800Z",
     "shell.execute_reply": "2023-03-27T15:54:26.687119Z",
     "shell.execute_reply.started": "2023-03-27T15:53:35.428106Z"
    },
    "papermill": {
     "duration": 0.045185,
     "end_time": "2023-03-27T15:54:26.687930",
     "exception": false,
     "start_time": "2023-03-27T15:54:26.642745",
     "status": "completed"
    },
    "tags": []
   },
   "outputs": [],
   "source": [
    "y_pred = model.predict(X[5500:])"
   ]
  },
  {
   "cell_type": "code",
   "execution_count": 15,
   "metadata": {
    "execution": {
     "iopub.execute_input": "2023-03-27T15:54:26.729407Z",
     "iopub.status.busy": "2023-03-27T15:54:26.728350Z",
     "iopub.status.idle": "2023-03-27T15:54:26.929258Z",
     "shell.execute_reply": "2023-03-27T15:54:26.929974Z",
     "shell.execute_reply.started": "2023-03-27T15:53:35.454126Z"
    },
    "papermill": {
     "duration": 0.223374,
     "end_time": "2023-03-27T15:54:26.930159",
     "exception": false,
     "start_time": "2023-03-27T15:54:26.706785",
     "status": "completed"
    },
    "tags": []
   },
   "outputs": [
    {
     "data": {
      "text/plain": [
       "<sklearn.metrics._plot.confusion_matrix.ConfusionMatrixDisplay at 0x7f04deb835d0>"
      ]
     },
     "execution_count": 15,
     "metadata": {},
     "output_type": "execute_result"
    },
    {
     "data": {
      "image/png": "[encoded data removed]",
      "text/plain": [
       "<Figure size 432x288 with 2 Axes>"
      ]
     },
     "metadata": {
      "needs_background": "light"
     },
     "output_type": "display_data"
    }
   ],
   "source": [
    "plot_confusion_matrix(model, X[:5500], y[:5500],labels=[0,1],normalize= 'true')"
   ]
  },
  {
   "cell_type": "code",
   "execution_count": 16,
   "metadata": {
    "execution": {
     "iopub.execute_input": "2023-03-27T15:54:26.975026Z",
     "iopub.status.busy": "2023-03-27T15:54:26.974248Z",
     "iopub.status.idle": "2023-03-27T15:54:26.980596Z",
     "shell.execute_reply": "2023-03-27T15:54:26.980040Z",
     "shell.execute_reply.started": "2023-03-27T15:53:35.681061Z"
    },
    "papermill": {
     "duration": 0.031123,
     "end_time": "2023-03-27T15:54:26.980727",
     "exception": false,
     "start_time": "2023-03-27T15:54:26.949604",
     "status": "completed"
    },
    "tags": []
   },
   "outputs": [
    {
     "data": {
      "text/plain": [
       "0.7960246095598675"
      ]
     },
     "execution_count": 16,
     "metadata": {},
     "output_type": "execute_result"
    }
   ],
   "source": [
    "accuracy = accuracy_score(y[5500:],y_pred)\n",
    "accuracy"
   ]
  },
  {
   "cell_type": "code",
   "execution_count": 17,
   "metadata": {
    "execution": {
     "iopub.execute_input": "2023-03-27T15:54:27.023507Z",
     "iopub.status.busy": "2023-03-27T15:54:27.022785Z",
     "iopub.status.idle": "2023-03-27T15:54:27.045177Z",
     "shell.execute_reply": "2023-03-27T15:54:27.044491Z",
     "shell.execute_reply.started": "2023-03-27T15:53:35.692279Z"
    },
    "papermill": {
     "duration": 0.04479,
     "end_time": "2023-03-27T15:54:27.045305",
     "exception": false,
     "start_time": "2023-03-27T15:54:27.000515",
     "status": "completed"
    },
    "tags": []
   },
   "outputs": [
    {
     "data": {
      "text/plain": [
       "LogisticRegression(class_weight='balanced', max_iter=20, random_state=42,\n",
       "                   solver='liblinear')"
      ]
     },
     "execution_count": 17,
     "metadata": {},
     "output_type": "execute_result"
    }
   ],
   "source": [
    "main_model = LogisticRegression(penalty= 'l2' ,random_state= 42 ,max_iter=20,solver='liblinear',class_weight= 'balanced')\n",
    "main_model.fit(X,y)"
   ]
  },
  {
   "cell_type": "code",
   "execution_count": 18,
   "metadata": {
    "execution": {
     "iopub.execute_input": "2023-03-27T15:54:27.096480Z",
     "iopub.status.busy": "2023-03-27T15:54:27.095768Z",
     "iopub.status.idle": "2023-03-27T15:54:29.313691Z",
     "shell.execute_reply": "2023-03-27T15:54:29.312900Z",
     "shell.execute_reply.started": "2023-03-27T15:53:35.725314Z"
    },
    "papermill": {
     "duration": 2.247875,
     "end_time": "2023-03-27T15:54:29.313890",
     "exception": false,
     "start_time": "2023-03-27T15:54:27.066015",
     "status": "completed"
    },
    "tags": []
   },
   "outputs": [],
   "source": [
    "X_test = np.zeros((len(test_data), 3))\n",
    "for i in range(len(test_data)):\n",
    "    X_test[i, :]= extract_features(test_data.text[i], freqs)\n"
   ]
  },
  {
   "cell_type": "code",
   "execution_count": 19,
   "metadata": {
    "_kg_hide-input": true,
    "execution": {
     "iopub.execute_input": "2023-03-27T15:54:29.358374Z",
     "iopub.status.busy": "2023-03-27T15:54:29.357666Z",
     "iopub.status.idle": "2023-03-27T15:54:29.366354Z",
     "shell.execute_reply": "2023-03-27T15:54:29.365675Z",
     "shell.execute_reply.started": "2023-03-27T15:53:37.982169Z"
    },
    "papermill": {
     "duration": 0.031546,
     "end_time": "2023-03-27T15:54:29.366511",
     "exception": false,
     "start_time": "2023-03-27T15:54:29.334965",
     "status": "completed"
    },
    "tags": []
   },
   "outputs": [],
   "source": [
    "y_test_pred = main_model.predict(X_test)"
   ]
  },
  {
   "cell_type": "code",
   "execution_count": 20,
   "metadata": {
    "execution": {
     "iopub.execute_input": "2023-03-27T15:54:29.413833Z",
     "iopub.status.busy": "2023-03-27T15:54:29.413046Z",
     "iopub.status.idle": "2023-03-27T15:54:29.520615Z",
     "shell.execute_reply": "2023-03-27T15:54:29.519840Z",
     "shell.execute_reply.started": "2023-03-27T15:53:37.989958Z"
    },
    "papermill": {
     "duration": 0.130937,
     "end_time": "2023-03-27T15:54:29.520752",
     "exception": false,
     "start_time": "2023-03-27T15:54:29.389815",
     "status": "completed"
    },
    "tags": []
   },
   "outputs": [],
   "source": [
    "submission = pd.DataFrame({'id':sample['id'],'target': y_test_pred})\n",
    "submission.to_csv('My_submission.csv',index = False)"
   ]
  },
  {
   "cell_type": "code",
   "execution_count": null,
   "metadata": {
    "papermill": {
     "duration": 0.020093,
     "end_time": "2023-03-27T15:54:29.561613",
     "exception": false,
     "start_time": "2023-03-27T15:54:29.541520",
     "status": "completed"
    },
    "tags": []
   },
   "outputs": [],
   "source": []
  }
 ],
 "metadata": {
  "kernelspec": {
   "display_name": "Python 3",
   "language": "python",
   "name": "python3"
  },
  "language_info": {
   "codemirror_mode": {
    "name": "ipython",
    "version": 3
   },
   "file_extension": ".py",
   "mimetype": "text/x-python",
   "name": "python",
   "nbconvert_exporter": "python",
   "pygments_lexer": "ipython3",
   "version": "3.7.6"
  },
  "papermill": {
   "duration": 20.115846,
   "end_time": "2023-03-27T15:54:29.690479",
   "environment_variables": {},
   "exception": null,
   "input_path": "__notebook__.ipynb",
   "output_path": "__notebook__.ipynb",
   "parameters": {},
   "start_time": "2023-03-27T15:54:09.574633",
   "version": "2.1.0"
  }
 },
 "nbformat": 4,
 "nbformat_minor": 4
}
